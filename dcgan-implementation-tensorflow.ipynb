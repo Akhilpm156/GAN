{
 "cells": [
  {
   "cell_type": "code",
   "execution_count": 1,
   "id": "e6fd949e",
   "metadata": {
    "execution": {
     "iopub.execute_input": "2024-12-24T11:38:35.023014Z",
     "iopub.status.busy": "2024-12-24T11:38:35.022747Z",
     "iopub.status.idle": "2024-12-24T11:38:46.961384Z",
     "shell.execute_reply": "2024-12-24T11:38:46.960689Z"
    },
    "papermill": {
     "duration": 11.946698,
     "end_time": "2024-12-24T11:38:46.963347",
     "exception": false,
     "start_time": "2024-12-24T11:38:35.016649",
     "status": "completed"
    },
    "tags": []
   },
   "outputs": [],
   "source": [
    "# import Liberys\n",
    "import glob\n",
    "import imageio\n",
    "import matplotlib.pyplot as plt\n",
    "import numpy as np\n",
    "import os\n",
    "import PIL\n",
    "import tensorflow as tf\n",
    "from tensorflow.keras import layers\n",
    "import time\n",
    "from IPython.display import clear_output"
   ]
  },
  {
   "cell_type": "code",
   "execution_count": 2,
   "id": "227ae039",
   "metadata": {
    "execution": {
     "iopub.execute_input": "2024-12-24T11:38:46.975158Z",
     "iopub.status.busy": "2024-12-24T11:38:46.974393Z",
     "iopub.status.idle": "2024-12-24T11:38:49.262767Z",
     "shell.execute_reply": "2024-12-24T11:38:49.261733Z"
    },
    "papermill": {
     "duration": 2.296465,
     "end_time": "2024-12-24T11:38:49.264564",
     "exception": false,
     "start_time": "2024-12-24T11:38:46.968099",
     "status": "completed"
    },
    "tags": []
   },
   "outputs": [
    {
     "data": {
      "text/plain": [
       "(42000, 28, 28, 1)"
      ]
     },
     "execution_count": 2,
     "metadata": {},
     "output_type": "execute_result"
    }
   ],
   "source": [
    "# data loading\n",
    "data = np.loadtxt('/kaggle/input/digit-recognizer/train.csv',delimiter=',',skiprows=1,)\n",
    "# removed label column\n",
    "data = data[:,1:]\n",
    "# reshape data\n",
    "data = data.reshape(-1,28,28,1)\n",
    "data.shape"
   ]
  },
  {
   "cell_type": "code",
   "execution_count": 3,
   "id": "1916fe2e",
   "metadata": {
    "execution": {
     "iopub.execute_input": "2024-12-24T11:38:49.274682Z",
     "iopub.status.busy": "2024-12-24T11:38:49.274419Z",
     "iopub.status.idle": "2024-12-24T11:38:49.523792Z",
     "shell.execute_reply": "2024-12-24T11:38:49.522970Z"
    },
    "papermill": {
     "duration": 0.256469,
     "end_time": "2024-12-24T11:38:49.525665",
     "exception": false,
     "start_time": "2024-12-24T11:38:49.269196",
     "status": "completed"
    },
    "tags": []
   },
   "outputs": [
    {
     "data": {
      "text/plain": [
       "<matplotlib.image.AxesImage at 0x780fbee4fcd0>"
      ]
     },
     "execution_count": 3,
     "metadata": {},
     "output_type": "execute_result"
    },
    {
     "data": {
      "image/png": "[encoded data removed]",
      "text/plain": [
       "<Figure size 640x480 with 1 Axes>"
      ]
     },
     "metadata": {},
     "output_type": "display_data"
    }
   ],
   "source": [
    "plt.imshow(data[0])"
   ]
  },
  {
   "cell_type": "code",
   "execution_count": 4,
   "id": "aadb8aa2",
   "metadata": {
    "execution": {
     "iopub.execute_input": "2024-12-24T11:38:49.536301Z",
     "iopub.status.busy": "2024-12-24T11:38:49.536000Z",
     "iopub.status.idle": "2024-12-24T11:38:50.908319Z",
     "shell.execute_reply": "2024-12-24T11:38:50.907364Z"
    },
    "papermill": {
     "duration": 1.379939,
     "end_time": "2024-12-24T11:38:50.910432",
     "exception": false,
     "start_time": "2024-12-24T11:38:49.530493",
     "status": "completed"
    },
    "tags": []
   },
   "outputs": [],
   "source": [
    "BUFFER_SIZE = 42000\n",
    "BATCH_SIZE = 32\n",
    "\n",
    "# create dataset\n",
    "dataset = tf.data.Dataset.from_tensor_slices((data))\n",
    "dataset = dataset.batch(BATCH_SIZE).shuffle(buffer_size=BUFFER_SIZE)"
   ]
  },
  {
   "cell_type": "code",
   "execution_count": 5,
   "id": "4b761048",
   "metadata": {
    "execution": {
     "iopub.execute_input": "2024-12-24T11:38:50.922021Z",
     "iopub.status.busy": "2024-12-24T11:38:50.921767Z",
     "iopub.status.idle": "2024-12-24T11:38:50.925914Z",
     "shell.execute_reply": "2024-12-24T11:38:50.925107Z"
    },
    "papermill": {
     "duration": 0.011804,
     "end_time": "2024-12-24T11:38:50.927530",
     "exception": false,
     "start_time": "2024-12-24T11:38:50.915726",
     "status": "completed"
    },
    "tags": []
   },
   "outputs": [],
   "source": [
    "def normalize_image(image):\n",
    "    # Normalize the image to [-1, 1] for tanh activation\n",
    "    image = (image / 127.5) - 1  # If the pixel values are in [0, 255]\n",
    "    # Alternatively, if the image data is in [0, 1] range, use:\n",
    "    # image = 2 * image - 1\n",
    "    \n",
    "    return image"
   ]
  },
  {
   "cell_type": "code",
   "execution_count": 6,
   "id": "21b3a753",
   "metadata": {
    "execution": {
     "iopub.execute_input": "2024-12-24T11:38:50.937955Z",
     "iopub.status.busy": "2024-12-24T11:38:50.937700Z",
     "iopub.status.idle": "2024-12-24T11:38:50.976027Z",
     "shell.execute_reply": "2024-12-24T11:38:50.975423Z"
    },
    "papermill": {
     "duration": 0.04565,
     "end_time": "2024-12-24T11:38:50.977805",
     "exception": false,
     "start_time": "2024-12-24T11:38:50.932155",
     "status": "completed"
    },
    "tags": []
   },
   "outputs": [],
   "source": [
    "dataset = dataset.map(normalize_image)"
   ]
  },
  {
   "cell_type": "code",
   "execution_count": 7,
   "id": "3f0fb2ef",
   "metadata": {
    "execution": {
     "iopub.execute_input": "2024-12-24T11:38:50.988141Z",
     "iopub.status.busy": "2024-12-24T11:38:50.987881Z",
     "iopub.status.idle": "2024-12-24T11:38:51.711333Z",
     "shell.execute_reply": "2024-12-24T11:38:51.710519Z"
    },
    "papermill": {
     "duration": 0.730603,
     "end_time": "2024-12-24T11:38:51.713135",
     "exception": false,
     "start_time": "2024-12-24T11:38:50.982532",
     "status": "completed"
    },
    "tags": []
   },
   "outputs": [
    {
     "name": "stdout",
     "output_type": "stream",
     "text": [
      "(32, 28, 28, 1)\n"
     ]
    },
    {
     "data": {
      "image/png": "[encoded data removed]",
      "text/plain": [
       "<Figure size 640x480 with 1 Axes>"
      ]
     },
     "metadata": {},
     "output_type": "display_data"
    }
   ],
   "source": [
    "for image_batch in dataset:\n",
    "    print(image_batch.shape)\n",
    "    plt.imshow(image_batch[0])\n",
    "    break"
   ]
  },
  {
   "cell_type": "code",
   "execution_count": 8,
   "id": "60cc9cac",
   "metadata": {
    "execution": {
     "iopub.execute_input": "2024-12-24T11:38:51.724907Z",
     "iopub.status.busy": "2024-12-24T11:38:51.724416Z",
     "iopub.status.idle": "2024-12-24T11:38:51.731399Z",
     "shell.execute_reply": "2024-12-24T11:38:51.730439Z"
    },
    "papermill": {
     "duration": 0.0147,
     "end_time": "2024-12-24T11:38:51.733130",
     "exception": false,
     "start_time": "2024-12-24T11:38:51.718430",
     "status": "completed"
    },
    "tags": []
   },
   "outputs": [],
   "source": [
    "# Generator function\n",
    "def make_generator_model():\n",
    "    model = tf.keras.Sequential()\n",
    "    model.add(layers.Dense(7*7*256, use_bias=False, input_shape=(100,)))\n",
    "    model.add(layers.BatchNormalization())\n",
    "    model.add(layers.LeakyReLU())\n",
    "\n",
    "    model.add(layers.Reshape((7, 7, 256)))\n",
    "    assert model.output_shape == (None, 7, 7, 256)  # Note: None is the batch size\n",
    "\n",
    "    model.add(layers.Conv2DTranspose(128, (5, 5), strides=(1, 1), padding='same', use_bias=False))\n",
    "    assert model.output_shape == (None, 7, 7, 128)\n",
    "    model.add(layers.BatchNormalization())\n",
    "    model.add(layers.LeakyReLU())\n",
    "\n",
    "    model.add(layers.Conv2DTranspose(64, (5, 5), strides=(2, 2), padding='same', use_bias=False))\n",
    "    assert model.output_shape == (None, 14, 14, 64)\n",
    "    model.add(layers.BatchNormalization())\n",
    "    model.add(layers.LeakyReLU())\n",
    "\n",
    "    model.add(layers.Conv2DTranspose(1, (5, 5), strides=(2, 2), padding='same', use_bias=False, activation='tanh'))\n",
    "    assert model.output_shape == (None, 28, 28, 1)\n",
    "\n",
    "    return model"
   ]
  },
  {
   "cell_type": "code",
   "execution_count": 9,
   "id": "05cf0db1",
   "metadata": {
    "execution": {
     "iopub.execute_input": "2024-12-24T11:38:51.744041Z",
     "iopub.status.busy": "2024-12-24T11:38:51.743806Z",
     "iopub.status.idle": "2024-12-24T11:38:53.216702Z",
     "shell.execute_reply": "2024-12-24T11:38:53.215912Z"
    },
    "papermill": {
     "duration": 1.480568,
     "end_time": "2024-12-24T11:38:53.218752",
     "exception": false,
     "start_time": "2024-12-24T11:38:51.738184",
     "status": "completed"
    },
    "tags": []
   },
   "outputs": [
    {
     "name": "stderr",
     "output_type": "stream",
     "text": [
      "/opt/conda/lib/python3.10/site-packages/keras/src/layers/core/dense.py:87: UserWarning: Do not pass an `input_shape`/`input_dim` argument to a layer. When using Sequential models, prefer using an `Input(shape)` object as the first layer in the model instead.\n",
      "  super().__init__(activity_regularizer=activity_regularizer, **kwargs)\n"
     ]
    },
    {
     "data": {
      "text/plain": [
       "<matplotlib.image.AxesImage at 0x780fbeda6860>"
      ]
     },
     "execution_count": 9,
     "metadata": {},
     "output_type": "execute_result"
    },
    {
     "data": {
      "image/png": "[encoded data removed]",
      "text/plain": [
       "<Figure size 640x480 with 1 Axes>"
      ]
     },
     "metadata": {},
     "output_type": "display_data"
    }
   ],
   "source": [
    "# create generator\n",
    "generator = make_generator_model()\n",
    "\n",
    "# create normal distribution data points\n",
    "noise = tf.random.normal([1, 100])\n",
    "generated_image = generator(noise, training=False)\n",
    "\n",
    "plt.imshow(generated_image[0, :, :, 0])"
   ]
  },
  {
   "cell_type": "code",
   "execution_count": 10,
   "id": "87e16388",
   "metadata": {
    "execution": {
     "iopub.execute_input": "2024-12-24T11:38:53.230313Z",
     "iopub.status.busy": "2024-12-24T11:38:53.230022Z",
     "iopub.status.idle": "2024-12-24T11:38:53.235296Z",
     "shell.execute_reply": "2024-12-24T11:38:53.234544Z"
    },
    "papermill": {
     "duration": 0.012709,
     "end_time": "2024-12-24T11:38:53.236866",
     "exception": false,
     "start_time": "2024-12-24T11:38:53.224157",
     "status": "completed"
    },
    "tags": []
   },
   "outputs": [],
   "source": [
    "# discriminator function\n",
    "def make_discriminator_model():\n",
    "    model = tf.keras.Sequential()\n",
    "    model.add(layers.Conv2D(64, (5, 5), strides=(2, 2), padding='same',\n",
    "                                     input_shape=[28, 28, 1]))\n",
    "    model.add(layers.LeakyReLU())\n",
    "    model.add(layers.Dropout(0.3))\n",
    "\n",
    "    model.add(layers.Conv2D(128, (5, 5), strides=(2, 2), padding='same'))\n",
    "    model.add(layers.LeakyReLU())\n",
    "    model.add(layers.Dropout(0.3))\n",
    "\n",
    "    model.add(layers.Flatten())\n",
    "    model.add(layers.Dense(1))\n",
    "\n",
    "    return model"
   ]
  },
  {
   "cell_type": "code",
   "execution_count": 11,
   "id": "407e6c5e",
   "metadata": {
    "execution": {
     "iopub.execute_input": "2024-12-24T11:38:53.248260Z",
     "iopub.status.busy": "2024-12-24T11:38:53.247995Z",
     "iopub.status.idle": "2024-12-24T11:38:53.317476Z",
     "shell.execute_reply": "2024-12-24T11:38:53.316563Z"
    },
    "papermill": {
     "duration": 0.076904,
     "end_time": "2024-12-24T11:38:53.319223",
     "exception": false,
     "start_time": "2024-12-24T11:38:53.242319",
     "status": "completed"
    },
    "tags": []
   },
   "outputs": [
    {
     "name": "stderr",
     "output_type": "stream",
     "text": [
      "/opt/conda/lib/python3.10/site-packages/keras/src/layers/convolutional/base_conv.py:107: UserWarning: Do not pass an `input_shape`/`input_dim` argument to a layer. When using Sequential models, prefer using an `Input(shape)` object as the first layer in the model instead.\n",
      "  super().__init__(activity_regularizer=activity_regularizer, **kwargs)\n"
     ]
    },
    {
     "data": {
      "text/html": [
       "<pre style=\"white-space:pre;overflow-x:auto;line-height:normal;font-family:Menlo,'DejaVu Sans Mono',consolas,'Courier New',monospace\"><span style=\"font-weight: bold\">Model: \"sequential_1\"</span>\n",
       "</pre>\n"
      ],
      "text/plain": [
       "\u001b[1mModel: \"sequential_1\"\u001b[0m\n"
      ]
     },
     "metadata": {},
     "output_type": "display_data"
    },
    {
     "data": {
      "text/html": [
       "<pre style=\"white-space:pre;overflow-x:auto;line-height:normal;font-family:Menlo,'DejaVu Sans Mono',consolas,'Courier New',monospace\">┏━━━━━━━━━━━━━━━━━━━━━━━━━━━━━━━━━┳━━━━━━━━━━━━━━━━━━━━━━━━┳━━━━━━━━━━━━━━━┓\n",
       "┃<span style=\"font-weight: bold\"> Layer (type)                    </span>┃<span style=\"font-weight: bold\"> Output Shape           </span>┃<span style=\"font-weight: bold\">       Param # </span>┃\n",
       "┡━━━━━━━━━━━━━━━━━━━━━━━━━━━━━━━━━╇━━━━━━━━━━━━━━━━━━━━━━━━╇━━━━━━━━━━━━━━━┩\n",
       "│ conv2d (<span style=\"color: #0087ff; text-decoration-color: #0087ff\">Conv2D</span>)                 │ (<span style=\"color: #00d7ff; text-decoration-color: #00d7ff\">None</span>, <span style=\"color: #00af00; text-decoration-color: #00af00\">14</span>, <span style=\"color: #00af00; text-decoration-color: #00af00\">14</span>, <span style=\"color: #00af00; text-decoration-color: #00af00\">64</span>)     │         <span style=\"color: #00af00; text-decoration-color: #00af00\">1,664</span> │\n",
       "├─────────────────────────────────┼────────────────────────┼───────────────┤\n",
       "│ leaky_re_lu_3 (<span style=\"color: #0087ff; text-decoration-color: #0087ff\">LeakyReLU</span>)       │ (<span style=\"color: #00d7ff; text-decoration-color: #00d7ff\">None</span>, <span style=\"color: #00af00; text-decoration-color: #00af00\">14</span>, <span style=\"color: #00af00; text-decoration-color: #00af00\">14</span>, <span style=\"color: #00af00; text-decoration-color: #00af00\">64</span>)     │             <span style=\"color: #00af00; text-decoration-color: #00af00\">0</span> │\n",
       "├─────────────────────────────────┼────────────────────────┼───────────────┤\n",
       "│ dropout (<span style=\"color: #0087ff; text-decoration-color: #0087ff\">Dropout</span>)               │ (<span style=\"color: #00d7ff; text-decoration-color: #00d7ff\">None</span>, <span style=\"color: #00af00; text-decoration-color: #00af00\">14</span>, <span style=\"color: #00af00; text-decoration-color: #00af00\">14</span>, <span style=\"color: #00af00; text-decoration-color: #00af00\">64</span>)     │             <span style=\"color: #00af00; text-decoration-color: #00af00\">0</span> │\n",
       "├─────────────────────────────────┼────────────────────────┼───────────────┤\n",
       "│ conv2d_1 (<span style=\"color: #0087ff; text-decoration-color: #0087ff\">Conv2D</span>)               │ (<span style=\"color: #00d7ff; text-decoration-color: #00d7ff\">None</span>, <span style=\"color: #00af00; text-decoration-color: #00af00\">7</span>, <span style=\"color: #00af00; text-decoration-color: #00af00\">7</span>, <span style=\"color: #00af00; text-decoration-color: #00af00\">128</span>)      │       <span style=\"color: #00af00; text-decoration-color: #00af00\">204,928</span> │\n",
       "├─────────────────────────────────┼────────────────────────┼───────────────┤\n",
       "│ leaky_re_lu_4 (<span style=\"color: #0087ff; text-decoration-color: #0087ff\">LeakyReLU</span>)       │ (<span style=\"color: #00d7ff; text-decoration-color: #00d7ff\">None</span>, <span style=\"color: #00af00; text-decoration-color: #00af00\">7</span>, <span style=\"color: #00af00; text-decoration-color: #00af00\">7</span>, <span style=\"color: #00af00; text-decoration-color: #00af00\">128</span>)      │             <span style=\"color: #00af00; text-decoration-color: #00af00\">0</span> │\n",
       "├─────────────────────────────────┼────────────────────────┼───────────────┤\n",
       "│ dropout_1 (<span style=\"color: #0087ff; text-decoration-color: #0087ff\">Dropout</span>)             │ (<span style=\"color: #00d7ff; text-decoration-color: #00d7ff\">None</span>, <span style=\"color: #00af00; text-decoration-color: #00af00\">7</span>, <span style=\"color: #00af00; text-decoration-color: #00af00\">7</span>, <span style=\"color: #00af00; text-decoration-color: #00af00\">128</span>)      │             <span style=\"color: #00af00; text-decoration-color: #00af00\">0</span> │\n",
       "├─────────────────────────────────┼────────────────────────┼───────────────┤\n",
       "│ flatten (<span style=\"color: #0087ff; text-decoration-color: #0087ff\">Flatten</span>)               │ (<span style=\"color: #00d7ff; text-decoration-color: #00d7ff\">None</span>, <span style=\"color: #00af00; text-decoration-color: #00af00\">6272</span>)           │             <span style=\"color: #00af00; text-decoration-color: #00af00\">0</span> │\n",
       "├─────────────────────────────────┼────────────────────────┼───────────────┤\n",
       "│ dense_1 (<span style=\"color: #0087ff; text-decoration-color: #0087ff\">Dense</span>)                 │ (<span style=\"color: #00d7ff; text-decoration-color: #00d7ff\">None</span>, <span style=\"color: #00af00; text-decoration-color: #00af00\">1</span>)              │         <span style=\"color: #00af00; text-decoration-color: #00af00\">6,273</span> │\n",
       "└─────────────────────────────────┴────────────────────────┴───────────────┘\n",
       "</pre>\n"
      ],
      "text/plain": [
       "┏━━━━━━━━━━━━━━━━━━━━━━━━━━━━━━━━━┳━━━━━━━━━━━━━━━━━━━━━━━━┳━━━━━━━━━━━━━━━┓\n",
       "┃\u001b[1m \u001b[0m\u001b[1mLayer (type)                   \u001b[0m\u001b[1m \u001b[0m┃\u001b[1m \u001b[0m\u001b[1mOutput Shape          \u001b[0m\u001b[1m \u001b[0m┃\u001b[1m \u001b[0m\u001b[1m      Param #\u001b[0m\u001b[1m \u001b[0m┃\n",
       "┡━━━━━━━━━━━━━━━━━━━━━━━━━━━━━━━━━╇━━━━━━━━━━━━━━━━━━━━━━━━╇━━━━━━━━━━━━━━━┩\n",
       "│ conv2d (\u001b[38;5;33mConv2D\u001b[0m)                 │ (\u001b[38;5;45mNone\u001b[0m, \u001b[38;5;34m14\u001b[0m, \u001b[38;5;34m14\u001b[0m, \u001b[38;5;34m64\u001b[0m)     │         \u001b[38;5;34m1,664\u001b[0m │\n",
       "├─────────────────────────────────┼────────────────────────┼───────────────┤\n",
       "│ leaky_re_lu_3 (\u001b[38;5;33mLeakyReLU\u001b[0m)       │ (\u001b[38;5;45mNone\u001b[0m, \u001b[38;5;34m14\u001b[0m, \u001b[38;5;34m14\u001b[0m, \u001b[38;5;34m64\u001b[0m)     │             \u001b[38;5;34m0\u001b[0m │\n",
       "├─────────────────────────────────┼────────────────────────┼───────────────┤\n",
       "│ dropout (\u001b[38;5;33mDropout\u001b[0m)               │ (\u001b[38;5;45mNone\u001b[0m, \u001b[38;5;34m14\u001b[0m, \u001b[38;5;34m14\u001b[0m, \u001b[38;5;34m64\u001b[0m)     │             \u001b[38;5;34m0\u001b[0m │\n",
       "├─────────────────────────────────┼────────────────────────┼───────────────┤\n",
       "│ conv2d_1 (\u001b[38;5;33mConv2D\u001b[0m)               │ (\u001b[38;5;45mNone\u001b[0m, \u001b[38;5;34m7\u001b[0m, \u001b[38;5;34m7\u001b[0m, \u001b[38;5;34m128\u001b[0m)      │       \u001b[38;5;34m204,928\u001b[0m │\n",
       "├─────────────────────────────────┼────────────────────────┼───────────────┤\n",
       "│ leaky_re_lu_4 (\u001b[38;5;33mLeakyReLU\u001b[0m)       │ (\u001b[38;5;45mNone\u001b[0m, \u001b[38;5;34m7\u001b[0m, \u001b[38;5;34m7\u001b[0m, \u001b[38;5;34m128\u001b[0m)      │             \u001b[38;5;34m0\u001b[0m │\n",
       "├─────────────────────────────────┼────────────────────────┼───────────────┤\n",
       "│ dropout_1 (\u001b[38;5;33mDropout\u001b[0m)             │ (\u001b[38;5;45mNone\u001b[0m, \u001b[38;5;34m7\u001b[0m, \u001b[38;5;34m7\u001b[0m, \u001b[38;5;34m128\u001b[0m)      │             \u001b[38;5;34m0\u001b[0m │\n",
       "├─────────────────────────────────┼────────────────────────┼───────────────┤\n",
       "│ flatten (\u001b[38;5;33mFlatten\u001b[0m)               │ (\u001b[38;5;45mNone\u001b[0m, \u001b[38;5;34m6272\u001b[0m)           │             \u001b[38;5;34m0\u001b[0m │\n",
       "├─────────────────────────────────┼────────────────────────┼───────────────┤\n",
       "│ dense_1 (\u001b[38;5;33mDense\u001b[0m)                 │ (\u001b[38;5;45mNone\u001b[0m, \u001b[38;5;34m1\u001b[0m)              │         \u001b[38;5;34m6,273\u001b[0m │\n",
       "└─────────────────────────────────┴────────────────────────┴───────────────┘\n"
      ]
     },
     "metadata": {},
     "output_type": "display_data"
    },
    {
     "data": {
      "text/html": [
       "<pre style=\"white-space:pre;overflow-x:auto;line-height:normal;font-family:Menlo,'DejaVu Sans Mono',consolas,'Courier New',monospace\"><span style=\"font-weight: bold\"> Total params: </span><span style=\"color: #00af00; text-decoration-color: #00af00\">212,865</span> (831.50 KB)\n",
       "</pre>\n"
      ],
      "text/plain": [
       "\u001b[1m Total params: \u001b[0m\u001b[38;5;34m212,865\u001b[0m (831.50 KB)\n"
      ]
     },
     "metadata": {},
     "output_type": "display_data"
    },
    {
     "data": {
      "text/html": [
       "<pre style=\"white-space:pre;overflow-x:auto;line-height:normal;font-family:Menlo,'DejaVu Sans Mono',consolas,'Courier New',monospace\"><span style=\"font-weight: bold\"> Trainable params: </span><span style=\"color: #00af00; text-decoration-color: #00af00\">212,865</span> (831.50 KB)\n",
       "</pre>\n"
      ],
      "text/plain": [
       "\u001b[1m Trainable params: \u001b[0m\u001b[38;5;34m212,865\u001b[0m (831.50 KB)\n"
      ]
     },
     "metadata": {},
     "output_type": "display_data"
    },
    {
     "data": {
      "text/html": [
       "<pre style=\"white-space:pre;overflow-x:auto;line-height:normal;font-family:Menlo,'DejaVu Sans Mono',consolas,'Courier New',monospace\"><span style=\"font-weight: bold\"> Non-trainable params: </span><span style=\"color: #00af00; text-decoration-color: #00af00\">0</span> (0.00 B)\n",
       "</pre>\n"
      ],
      "text/plain": [
       "\u001b[1m Non-trainable params: \u001b[0m\u001b[38;5;34m0\u001b[0m (0.00 B)\n"
      ]
     },
     "metadata": {},
     "output_type": "display_data"
    }
   ],
   "source": [
    "# create discriminator\n",
    "discriminator = make_discriminator_model()\n",
    "discriminator.summary()"
   ]
  },
  {
   "cell_type": "code",
   "execution_count": 12,
   "id": "a0660cac",
   "metadata": {
    "execution": {
     "iopub.execute_input": "2024-12-24T11:38:53.332501Z",
     "iopub.status.busy": "2024-12-24T11:38:53.332239Z",
     "iopub.status.idle": "2024-12-24T11:38:53.335920Z",
     "shell.execute_reply": "2024-12-24T11:38:53.335135Z"
    },
    "papermill": {
     "duration": 0.012085,
     "end_time": "2024-12-24T11:38:53.337552",
     "exception": false,
     "start_time": "2024-12-24T11:38:53.325467",
     "status": "completed"
    },
    "tags": []
   },
   "outputs": [],
   "source": [
    "# This method returns a helper function to compute cross entropy loss\n",
    "cross_entropy = tf.keras.losses.BinaryCrossentropy(from_logits=True)"
   ]
  },
  {
   "cell_type": "code",
   "execution_count": 13,
   "id": "2ea802fd",
   "metadata": {
    "execution": {
     "iopub.execute_input": "2024-12-24T11:38:53.350156Z",
     "iopub.status.busy": "2024-12-24T11:38:53.349868Z",
     "iopub.status.idle": "2024-12-24T11:38:53.353879Z",
     "shell.execute_reply": "2024-12-24T11:38:53.353206Z"
    },
    "papermill": {
     "duration": 0.012112,
     "end_time": "2024-12-24T11:38:53.355470",
     "exception": false,
     "start_time": "2024-12-24T11:38:53.343358",
     "status": "completed"
    },
    "tags": []
   },
   "outputs": [],
   "source": [
    "# discriminator_loss function\n",
    "def discriminator_loss(real_output, fake_output):\n",
    "    real_loss = cross_entropy(tf.ones_like(real_output), real_output)\n",
    "    fake_loss = cross_entropy(tf.zeros_like(fake_output), fake_output)\n",
    "    total_loss = real_loss + fake_loss\n",
    "    return total_loss"
   ]
  },
  {
   "cell_type": "code",
   "execution_count": 14,
   "id": "30ae850d",
   "metadata": {
    "execution": {
     "iopub.execute_input": "2024-12-24T11:38:53.368235Z",
     "iopub.status.busy": "2024-12-24T11:38:53.367971Z",
     "iopub.status.idle": "2024-12-24T11:38:53.371484Z",
     "shell.execute_reply": "2024-12-24T11:38:53.370801Z"
    },
    "papermill": {
     "duration": 0.011725,
     "end_time": "2024-12-24T11:38:53.373103",
     "exception": false,
     "start_time": "2024-12-24T11:38:53.361378",
     "status": "completed"
    },
    "tags": []
   },
   "outputs": [],
   "source": [
    "# generator_loss function\n",
    "def generator_loss(fake_output):\n",
    "    return cross_entropy(tf.ones_like(fake_output), fake_output)"
   ]
  },
  {
   "cell_type": "code",
   "execution_count": 15,
   "id": "3befd25a",
   "metadata": {
    "execution": {
     "iopub.execute_input": "2024-12-24T11:38:53.385806Z",
     "iopub.status.busy": "2024-12-24T11:38:53.385556Z",
     "iopub.status.idle": "2024-12-24T11:38:53.394233Z",
     "shell.execute_reply": "2024-12-24T11:38:53.393659Z"
    },
    "papermill": {
     "duration": 0.016486,
     "end_time": "2024-12-24T11:38:53.395725",
     "exception": false,
     "start_time": "2024-12-24T11:38:53.379239",
     "status": "completed"
    },
    "tags": []
   },
   "outputs": [],
   "source": [
    "# Oprimizer adam\n",
    "generator_optimizer = tf.keras.optimizers.Adam(1e-4)\n",
    "discriminator_optimizer = tf.keras.optimizers.Adam(1e-4)"
   ]
  },
  {
   "cell_type": "code",
   "execution_count": 16,
   "id": "a2c659a9",
   "metadata": {
    "execution": {
     "iopub.execute_input": "2024-12-24T11:38:53.408505Z",
     "iopub.status.busy": "2024-12-24T11:38:53.408261Z",
     "iopub.status.idle": "2024-12-24T11:38:53.412679Z",
     "shell.execute_reply": "2024-12-24T11:38:53.412004Z"
    },
    "papermill": {
     "duration": 0.012494,
     "end_time": "2024-12-24T11:38:53.414176",
     "exception": false,
     "start_time": "2024-12-24T11:38:53.401682",
     "status": "completed"
    },
    "tags": []
   },
   "outputs": [],
   "source": [
    "# saving checkpoints\n",
    "checkpoint_dir = './training_checkpoints'\n",
    "checkpoint_prefix = os.path.join(checkpoint_dir, \"ckpt\")\n",
    "checkpoint = tf.train.Checkpoint(generator_optimizer=generator_optimizer,\n",
    "                                 discriminator_optimizer=discriminator_optimizer,\n",
    "                                 generator=generator,\n",
    "                                 discriminator=discriminator)"
   ]
  },
  {
   "cell_type": "code",
   "execution_count": 17,
   "id": "07592c91",
   "metadata": {
    "execution": {
     "iopub.execute_input": "2024-12-24T11:38:53.426899Z",
     "iopub.status.busy": "2024-12-24T11:38:53.426646Z",
     "iopub.status.idle": "2024-12-24T11:38:53.431423Z",
     "shell.execute_reply": "2024-12-24T11:38:53.430602Z"
    },
    "papermill": {
     "duration": 0.012726,
     "end_time": "2024-12-24T11:38:53.432977",
     "exception": false,
     "start_time": "2024-12-24T11:38:53.420251",
     "status": "completed"
    },
    "tags": []
   },
   "outputs": [],
   "source": [
    "EPOCHS = 100\n",
    "noise_dim = 100\n",
    "num_examples_to_generate = 16\n",
    "\n",
    "# You will reuse this seed overtime (so it's easier)\n",
    "# to visualize progress in the animated GIF)\n",
    "seed = tf.random.normal([num_examples_to_generate, noise_dim])"
   ]
  },
  {
   "cell_type": "code",
   "execution_count": 18,
   "id": "c5ece5f8",
   "metadata": {
    "execution": {
     "iopub.execute_input": "2024-12-24T11:38:53.445829Z",
     "iopub.status.busy": "2024-12-24T11:38:53.445575Z",
     "iopub.status.idle": "2024-12-24T11:38:53.451376Z",
     "shell.execute_reply": "2024-12-24T11:38:53.450524Z"
    },
    "papermill": {
     "duration": 0.013652,
     "end_time": "2024-12-24T11:38:53.452890",
     "exception": false,
     "start_time": "2024-12-24T11:38:53.439238",
     "status": "completed"
    },
    "tags": []
   },
   "outputs": [],
   "source": [
    "# Notice the use of `tf.function`\n",
    "# This annotation causes the function to be \"compiled\".\n",
    "@tf.function\n",
    "def train_step(images):\n",
    "    noise = tf.random.normal([BATCH_SIZE, noise_dim])\n",
    "\n",
    "    with tf.GradientTape() as gen_tape, tf.GradientTape() as disc_tape:\n",
    "      generated_images = generator(noise, training=True)\n",
    "\n",
    "      real_output = discriminator(images, training=True)\n",
    "      fake_output = discriminator(generated_images, training=True)\n",
    "\n",
    "      gen_loss = generator_loss(fake_output)\n",
    "      disc_loss = discriminator_loss(real_output, fake_output)\n",
    "\n",
    "    gradients_of_generator = gen_tape.gradient(gen_loss, generator.trainable_variables)\n",
    "    gradients_of_discriminator = disc_tape.gradient(disc_loss, discriminator.trainable_variables)\n",
    "\n",
    "    generator_optimizer.apply_gradients(zip(gradients_of_generator, generator.trainable_variables))\n",
    "    discriminator_optimizer.apply_gradients(zip(gradients_of_discriminator, discriminator.trainable_variables))"
   ]
  },
  {
   "cell_type": "code",
   "execution_count": 19,
   "id": "0c0a4f04",
   "metadata": {
    "execution": {
     "iopub.execute_input": "2024-12-24T11:38:53.465414Z",
     "iopub.status.busy": "2024-12-24T11:38:53.465168Z",
     "iopub.status.idle": "2024-12-24T11:38:53.469957Z",
     "shell.execute_reply": "2024-12-24T11:38:53.469135Z"
    },
    "papermill": {
     "duration": 0.012667,
     "end_time": "2024-12-24T11:38:53.471457",
     "exception": false,
     "start_time": "2024-12-24T11:38:53.458790",
     "status": "completed"
    },
    "tags": []
   },
   "outputs": [],
   "source": [
    "def train(dataset, epochs):\n",
    "  for epoch in range(epochs):\n",
    "    start = time.time()\n",
    "\n",
    "    for image_batch in dataset:\n",
    "        train_step(image_batch)\n",
    "\n",
    "    # Produce images for the GIF as you go\n",
    "    #clear_output(wait=True)\n",
    "    #generate_and_save_images(generator,\n",
    "    #                         epoch + 1,\n",
    "    #                         seed)\n",
    "\n",
    "    # Save the model every 15 epochs\n",
    "    if (epoch + 1) % 15 == 0:\n",
    "      checkpoint.save(file_prefix = checkpoint_prefix)\n",
    "\n",
    "    print ('Time for epoch {} is {} sec'.format(epoch + 1, time.time()-start))\n",
    "\n",
    "  # Generate after the final epoch\n",
    "    clear_output(wait=True)\n",
    "    generate_and_save_images(generator,\n",
    "                           epochs,\n",
    "                           seed)"
   ]
  },
  {
   "cell_type": "code",
   "execution_count": 20,
   "id": "d00202d1",
   "metadata": {
    "execution": {
     "iopub.execute_input": "2024-12-24T11:38:53.483876Z",
     "iopub.status.busy": "2024-12-24T11:38:53.483619Z",
     "iopub.status.idle": "2024-12-24T11:38:53.488279Z",
     "shell.execute_reply": "2024-12-24T11:38:53.487485Z"
    },
    "papermill": {
     "duration": 0.01296,
     "end_time": "2024-12-24T11:38:53.490020",
     "exception": false,
     "start_time": "2024-12-24T11:38:53.477060",
     "status": "completed"
    },
    "tags": []
   },
   "outputs": [],
   "source": [
    "def generate_and_save_images(model, epoch, test_input):\n",
    "  # Notice `training` is set to False.\n",
    "  # This is so all layers run in inference mode (batchnorm).\n",
    "  predictions = model(test_input, training=False)\n",
    "\n",
    "  fig = plt.figure(figsize=(4, 4))\n",
    "\n",
    "  for i in range(predictions.shape[0]):\n",
    "      plt.subplot(4, 4, i+1)\n",
    "      plt.imshow(predictions[i, :, :, 0] * 127.5 + 127.5)\n",
    "      plt.axis('off')\n",
    "\n",
    "  plt.savefig('image_at_epoch_{:04d}.png'.format(epoch))\n",
    "  plt.show()"
   ]
  },
  {
   "cell_type": "code",
   "execution_count": 21,
   "id": "e663e4b7",
   "metadata": {
    "execution": {
     "iopub.execute_input": "2024-12-24T11:38:53.503041Z",
     "iopub.status.busy": "2024-12-24T11:38:53.502796Z",
     "iopub.status.idle": "2024-12-24T11:56:40.305624Z",
     "shell.execute_reply": "2024-12-24T11:56:40.304358Z"
    },
    "papermill": {
     "duration": 1066.813064,
     "end_time": "2024-12-24T11:56:40.309135",
     "exception": false,
     "start_time": "2024-12-24T11:38:53.496071",
     "status": "completed"
    },
    "tags": []
   },
   "outputs": [
    {
     "data": {
      "image/png": "[encoded data removed]",
      "text/plain": [
       "<Figure size 400x400 with 16 Axes>"
      ]
     },
     "metadata": {},
     "output_type": "display_data"
    }
   ],
   "source": [
    "# traning gan\n",
    "train(dataset, EPOCHS)"
   ]
  },
  {
   "cell_type": "code",
   "execution_count": 22,
   "id": "bc0796d5",
   "metadata": {
    "execution": {
     "iopub.execute_input": "2024-12-24T11:56:40.338982Z",
     "iopub.status.busy": "2024-12-24T11:56:40.338701Z",
     "iopub.status.idle": "2024-12-24T11:56:40.406943Z",
     "shell.execute_reply": "2024-12-24T11:56:40.406109Z"
    },
    "papermill": {
     "duration": 0.081022,
     "end_time": "2024-12-24T11:56:40.408774",
     "exception": false,
     "start_time": "2024-12-24T11:56:40.327752",
     "status": "completed"
    },
    "tags": []
   },
   "outputs": [
    {
     "data": {
      "text/plain": [
       "<tensorflow.python.checkpoint.checkpoint.CheckpointLoadStatus at 0x78107cbac0a0>"
      ]
     },
     "execution_count": 22,
     "metadata": {},
     "output_type": "execute_result"
    }
   ],
   "source": [
    "checkpoint.restore(tf.train.latest_checkpoint(checkpoint_dir))"
   ]
  },
  {
   "cell_type": "code",
   "execution_count": 23,
   "id": "8e669b44",
   "metadata": {
    "execution": {
     "iopub.execute_input": "2024-12-24T11:56:40.424189Z",
     "iopub.status.busy": "2024-12-24T11:56:40.423680Z",
     "iopub.status.idle": "2024-12-24T11:56:40.427568Z",
     "shell.execute_reply": "2024-12-24T11:56:40.426879Z"
    },
    "papermill": {
     "duration": 0.013433,
     "end_time": "2024-12-24T11:56:40.429139",
     "exception": false,
     "start_time": "2024-12-24T11:56:40.415706",
     "status": "completed"
    },
    "tags": []
   },
   "outputs": [],
   "source": [
    "# Display a single image using the epoch number\n",
    "def display_image(epoch_no):\n",
    "  return PIL.Image.open('image_at_epoch_{:04d}.png'.format(epoch_no))"
   ]
  },
  {
   "cell_type": "code",
   "execution_count": 24,
   "id": "6c1a719f",
   "metadata": {
    "execution": {
     "iopub.execute_input": "2024-12-24T11:56:40.443849Z",
     "iopub.status.busy": "2024-12-24T11:56:40.443202Z",
     "iopub.status.idle": "2024-12-24T11:56:40.460431Z",
     "shell.execute_reply": "2024-12-24T11:56:40.459717Z"
    },
    "papermill": {
     "duration": 0.026634,
     "end_time": "2024-12-24T11:56:40.462424",
     "exception": false,
     "start_time": "2024-12-24T11:56:40.435790",
     "status": "completed"
    },
    "tags": []
   },
   "outputs": [
    {
     "data": {
      "image/png": "[encoded data removed]",
      "text/plain": [
       "<PIL.PngImagePlugin.PngImageFile image mode=RGBA size=400x400>"
      ]
     },
     "execution_count": 24,
     "metadata": {},
     "output_type": "execute_result"
    }
   ],
   "source": [
    "display_image(EPOCHS)"
   ]
  },
  {
   "cell_type": "code",
   "execution_count": 25,
   "id": "13b72549",
   "metadata": {
    "execution": {
     "iopub.execute_input": "2024-12-24T11:56:40.478475Z",
     "iopub.status.busy": "2024-12-24T11:56:40.477968Z",
     "iopub.status.idle": "2024-12-24T11:56:40.481287Z",
     "shell.execute_reply": "2024-12-24T11:56:40.480579Z"
    },
    "papermill": {
     "duration": 0.012889,
     "end_time": "2024-12-24T11:56:40.482743",
     "exception": false,
     "start_time": "2024-12-24T11:56:40.469854",
     "status": "completed"
    },
    "tags": []
   },
   "outputs": [],
   "source": [
    "#anim_file = 'dcgan.gif'\n",
    "\n",
    "#with imageio.get_writer(anim_file, mode='I') as writer:\n",
    "#  filenames = glob.glob('image*.png')\n",
    "#  filenames = sorted(filenames)\n",
    "#  for filename in filenames:\n",
    "#    image = imageio.imread(filename)\n",
    "#    writer.append_data(image)\n",
    "#  image = imageio.imread(filename)\n",
    "#  writer.append_data(image)"
   ]
  },
  {
   "cell_type": "code",
   "execution_count": 26,
   "id": "19b56292",
   "metadata": {
    "execution": {
     "iopub.execute_input": "2024-12-24T11:56:40.498944Z",
     "iopub.status.busy": "2024-12-24T11:56:40.498353Z",
     "iopub.status.idle": "2024-12-24T11:56:40.501835Z",
     "shell.execute_reply": "2024-12-24T11:56:40.501030Z"
    },
    "papermill": {
     "duration": 0.013303,
     "end_time": "2024-12-24T11:56:40.503520",
     "exception": false,
     "start_time": "2024-12-24T11:56:40.490217",
     "status": "completed"
    },
    "tags": []
   },
   "outputs": [],
   "source": [
    "#!pip install git+https://github.com/tensorflow/docs"
   ]
  },
  {
   "cell_type": "code",
   "execution_count": 27,
   "id": "91f0753a",
   "metadata": {
    "execution": {
     "iopub.execute_input": "2024-12-24T11:56:40.519407Z",
     "iopub.status.busy": "2024-12-24T11:56:40.519187Z",
     "iopub.status.idle": "2024-12-24T11:56:40.522484Z",
     "shell.execute_reply": "2024-12-24T11:56:40.521680Z"
    },
    "papermill": {
     "duration": 0.012983,
     "end_time": "2024-12-24T11:56:40.523997",
     "exception": false,
     "start_time": "2024-12-24T11:56:40.511014",
     "status": "completed"
    },
    "tags": []
   },
   "outputs": [],
   "source": [
    "#import tensorflow_docs.vis.embed as embed\n",
    "#embed.embed_file(anim_file)"
   ]
  }
 ],
 "metadata": {
  "kaggle": {
   "accelerator": "gpu",
   "dataSources": [
    {
     "databundleVersionId": 861823,
     "sourceId": 3004,
     "sourceType": "competition"
    }
   ],
   "dockerImageVersionId": 30805,
   "isGpuEnabled": true,
   "isInternetEnabled": true,
   "language": "python",
   "sourceType": "notebook"
  },
  "kernelspec": {
   "display_name": "Python 3",
   "language": "python",
   "name": "python3"
  },
  "language_info": {
   "codemirror_mode": {
    "name": "ipython",
    "version": 3
   },
   "file_extension": ".py",
   "mimetype": "text/x-python",
   "name": "python",
   "nbconvert_exporter": "python",
   "pygments_lexer": "ipython3",
   "version": "3.10.14"
  },
  "papermill": {
   "default_parameters": {},
   "duration": 1089.958002,
   "end_time": "2024-12-24T11:56:42.553158",
   "environment_variables": {},
   "exception": null,
   "input_path": "__notebook__.ipynb",
   "output_path": "__notebook__.ipynb",
   "parameters": {},
   "start_time": "2024-12-24T11:38:32.595156",
   "version": "2.6.0"
  }
 },
 "nbformat": 4,
 "nbformat_minor": 5
}
